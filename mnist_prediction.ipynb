{
  "nbformat": 4,
  "nbformat_minor": 0,
  "metadata": {
    "colab": {
      "name": "mnist_prediction.ipynb",
      "provenance": [],
      "collapsed_sections": [],
      "mount_file_id": "1Uhu8x1ok26GzKdJRyHMDO0zhAWWLG_a8",
      "authorship_tag": "ABX9TyN6ky3N0lHwJauCI1dDtpxP",
      "include_colab_link": true
    },
    "kernelspec": {
      "name": "python3",
      "display_name": "Python 3"
    },
    "language_info": {
      "name": "python"
    }
  },
  "cells": [
    {
      "cell_type": "markdown",
      "metadata": {
        "id": "view-in-github",
        "colab_type": "text"
      },
      "source": [
        "<a href=\"https://colab.research.google.com/github/swamivisal/Handwritten-Digit-Recogniser/blob/main/mnist_prediction.ipynb\" target=\"_parent\"><img src=\"https://colab.research.google.com/assets/colab-badge.svg\" alt=\"Open In Colab\"/></a>"
      ]
    },
    {
      "cell_type": "markdown",
      "metadata": {
        "id": "gr0jpBGvOyZq"
      },
      "source": [
        "importing the libraries\n"
      ]
    },
    {
      "cell_type": "code",
      "metadata": {
        "id": "sWx2U0paLPgT"
      },
      "source": [
        "from tensorflow import keras\n",
        "from tensorflow.keras.layers import Dense,Activation,Flatten\n",
        "import numpy as np\n",
        "import cv2"
      ],
      "execution_count": 8,
      "outputs": []
    },
    {
      "cell_type": "markdown",
      "metadata": {
        "id": "HeH_tcXvPf1w"
      },
      "source": [
        "Importing the mnist dataset and spliting the test and train data"
      ]
    },
    {
      "cell_type": "code",
      "metadata": {
        "id": "m5aLyaoVLPio"
      },
      "source": [
        "mnist = keras.datasets.mnist \n",
        "(train_inputs,train_targets),(test_inputs,test_targets) = mnist.load_data() \n"
      ],
      "execution_count": 9,
      "outputs": []
    },
    {
      "cell_type": "markdown",
      "metadata": {
        "id": "dwKVQOlyFz8o"
      },
      "source": [
        "Preprocessing the data"
      ]
    },
    {
      "cell_type": "code",
      "metadata": {
        "id": "mXBAu2FxFooP"
      },
      "source": [
        "normalised_train_inputs = train_inputs/255\n",
        "normalised_test_inputs=test_inputs/255"
      ],
      "execution_count": 10,
      "outputs": []
    },
    {
      "cell_type": "markdown",
      "metadata": {
        "id": "7v6zXOavRTS6"
      },
      "source": [
        "Initializing the ANN"
      ]
    },
    {
      "cell_type": "code",
      "metadata": {
        "id": "y5QNYIBZGQ6H"
      },
      "source": [
        "model=keras.Sequential()"
      ],
      "execution_count": 11,
      "outputs": []
    },
    {
      "cell_type": "markdown",
      "metadata": {
        "id": "sHRHFGl_GJXW"
      },
      "source": [
        "Adding the hidden layers and output layer"
      ]
    },
    {
      "cell_type": "code",
      "metadata": {
        "id": "Mw3ZlO2PLPlt"
      },
      "source": [
        "model.add(Flatten(input_shape=normalised_train_inputs.shape[1:]))\n",
        "model.add(Dense(45))\n",
        "model.add(Activation('relu'))\n",
        "model.add(Dense(15))\n",
        "model.add(Activation('relu'))\n",
        "model.add(Dense(10))\n",
        "model.add(Activation('softmax'))"
      ],
      "execution_count": 12,
      "outputs": []
    },
    {
      "cell_type": "markdown",
      "metadata": {
        "id": "BungqLnxGjcb"
      },
      "source": [
        "Compiling the ANN and training the model on training data"
      ]
    },
    {
      "cell_type": "code",
      "metadata": {
        "id": "hCksn-m6LhVJ",
        "colab": {
          "base_uri": "https://localhost:8080/"
        },
        "outputId": "e6076da8-801d-4df2-ea2e-ba4a859afaf2"
      },
      "source": [
        "model.compile(loss=\"sparse_categorical_crossentropy\",optimizer=keras.optimizers.Adam(learning_rate=0.005),metrics=['accuracy'])\n",
        "model.fit(normalised_train_inputs,train_targets,batch_size=400,epochs=7)"
      ],
      "execution_count": 13,
      "outputs": [
        {
          "output_type": "stream",
          "text": [
            "Epoch 1/7\n",
            "150/150 [==============================] - 1s 4ms/step - loss: 0.4496 - accuracy: 0.8680\n",
            "Epoch 2/7\n",
            "150/150 [==============================] - 1s 4ms/step - loss: 0.1835 - accuracy: 0.9467\n",
            "Epoch 3/7\n",
            "150/150 [==============================] - 1s 4ms/step - loss: 0.1389 - accuracy: 0.9574\n",
            "Epoch 4/7\n",
            "150/150 [==============================] - 1s 4ms/step - loss: 0.1168 - accuracy: 0.9643\n",
            "Epoch 5/7\n",
            "150/150 [==============================] - 1s 4ms/step - loss: 0.0978 - accuracy: 0.9699\n",
            "Epoch 6/7\n",
            "150/150 [==============================] - 1s 4ms/step - loss: 0.0874 - accuracy: 0.9722\n",
            "Epoch 7/7\n",
            "150/150 [==============================] - 1s 4ms/step - loss: 0.0772 - accuracy: 0.9761\n"
          ],
          "name": "stdout"
        },
        {
          "output_type": "execute_result",
          "data": {
            "text/plain": [
              "<tensorflow.python.keras.callbacks.History at 0x7faa05934150>"
            ]
          },
          "metadata": {
            "tags": []
          },
          "execution_count": 13
        }
      ]
    },
    {
      "cell_type": "markdown",
      "metadata": {
        "id": "n83bA3gYRaNt"
      },
      "source": [
        "Evaluatingb the perfromance of the model"
      ]
    },
    {
      "cell_type": "code",
      "metadata": {
        "id": "IWK3Jt8QLlpd",
        "colab": {
          "base_uri": "https://localhost:8080/"
        },
        "outputId": "3e8fcd49-699f-4297-af47-7b8b9d1bcbaf"
      },
      "source": [
        "model.evaluate(normalised_test_inputs,test_targets)"
      ],
      "execution_count": 14,
      "outputs": [
        {
          "output_type": "stream",
          "text": [
            "313/313 [==============================] - 0s 1ms/step - loss: 0.1091 - accuracy: 0.9667\n"
          ],
          "name": "stdout"
        },
        {
          "output_type": "execute_result",
          "data": {
            "text/plain": [
              "[0.10911644250154495, 0.96670001745224]"
            ]
          },
          "metadata": {
            "tags": []
          },
          "execution_count": 14
        }
      ]
    },
    {
      "cell_type": "markdown",
      "metadata": {
        "id": "zNrdygLERt30"
      },
      "source": [
        "Making the predictions for few test inputs"
      ]
    },
    {
      "cell_type": "code",
      "metadata": {
        "colab": {
          "base_uri": "https://localhost:8080/"
        },
        "id": "d9XFyy5JMSkR",
        "outputId": "14cce771-c318-4925-9476-6dd4d33cdc2a"
      },
      "source": [
        "for i in range(100):\n",
        "  prediction=model.predict_classes(normalised_test_inputs[i].reshape(1,28,28))\n",
        "  target=test_targets[i]\n",
        "  if prediction==target:\n",
        "    print(\"correctly predicted\")\n",
        "  else:\n",
        "   print(\"predicted number={},target number={}\".format(prediction[0],target))"
      ],
      "execution_count": 15,
      "outputs": [
        {
          "output_type": "stream",
          "text": [
            "/usr/local/lib/python3.7/dist-packages/tensorflow/python/keras/engine/sequential.py:455: UserWarning: `model.predict_classes()` is deprecated and will be removed after 2021-01-01. Please use instead:* `np.argmax(model.predict(x), axis=-1)`,   if your model does multi-class classification   (e.g. if it uses a `softmax` last-layer activation).* `(model.predict(x) > 0.5).astype(\"int32\")`,   if your model does binary classification   (e.g. if it uses a `sigmoid` last-layer activation).\n",
            "  warnings.warn('`model.predict_classes()` is deprecated and '\n"
          ],
          "name": "stderr"
        },
        {
          "output_type": "stream",
          "text": [
            "correctly predicted\n",
            "correctly predicted\n",
            "correctly predicted\n",
            "correctly predicted\n",
            "correctly predicted\n",
            "correctly predicted\n",
            "correctly predicted\n",
            "correctly predicted\n",
            "predicted number=6,target number=5\n",
            "correctly predicted\n",
            "correctly predicted\n",
            "correctly predicted\n",
            "correctly predicted\n",
            "correctly predicted\n",
            "correctly predicted\n",
            "correctly predicted\n",
            "correctly predicted\n",
            "correctly predicted\n",
            "correctly predicted\n",
            "correctly predicted\n",
            "correctly predicted\n",
            "correctly predicted\n",
            "correctly predicted\n",
            "correctly predicted\n",
            "correctly predicted\n",
            "correctly predicted\n",
            "correctly predicted\n",
            "correctly predicted\n",
            "correctly predicted\n",
            "correctly predicted\n",
            "correctly predicted\n",
            "correctly predicted\n",
            "correctly predicted\n",
            "correctly predicted\n",
            "correctly predicted\n",
            "correctly predicted\n",
            "correctly predicted\n",
            "correctly predicted\n",
            "predicted number=3,target number=2\n",
            "correctly predicted\n",
            "correctly predicted\n",
            "correctly predicted\n",
            "correctly predicted\n",
            "correctly predicted\n",
            "correctly predicted\n",
            "correctly predicted\n",
            "correctly predicted\n",
            "correctly predicted\n",
            "correctly predicted\n",
            "correctly predicted\n",
            "correctly predicted\n",
            "correctly predicted\n",
            "correctly predicted\n",
            "correctly predicted\n",
            "correctly predicted\n",
            "correctly predicted\n",
            "correctly predicted\n",
            "correctly predicted\n",
            "correctly predicted\n",
            "correctly predicted\n",
            "correctly predicted\n",
            "correctly predicted\n",
            "correctly predicted\n",
            "predicted number=2,target number=3\n",
            "correctly predicted\n",
            "correctly predicted\n",
            "correctly predicted\n",
            "correctly predicted\n",
            "correctly predicted\n",
            "correctly predicted\n",
            "correctly predicted\n",
            "correctly predicted\n",
            "correctly predicted\n",
            "correctly predicted\n",
            "correctly predicted\n",
            "correctly predicted\n",
            "correctly predicted\n",
            "correctly predicted\n",
            "correctly predicted\n",
            "correctly predicted\n",
            "correctly predicted\n",
            "correctly predicted\n",
            "correctly predicted\n",
            "correctly predicted\n",
            "correctly predicted\n",
            "correctly predicted\n",
            "correctly predicted\n",
            "correctly predicted\n",
            "correctly predicted\n",
            "correctly predicted\n",
            "correctly predicted\n",
            "correctly predicted\n",
            "correctly predicted\n",
            "correctly predicted\n",
            "correctly predicted\n",
            "correctly predicted\n",
            "correctly predicted\n",
            "correctly predicted\n",
            "correctly predicted\n",
            "correctly predicted\n"
          ],
          "name": "stdout"
        }
      ]
    },
    {
      "cell_type": "markdown",
      "metadata": {
        "id": "uDGDAYsbTmtm"
      },
      "source": [
        "# New Section"
      ]
    }
  ]
}