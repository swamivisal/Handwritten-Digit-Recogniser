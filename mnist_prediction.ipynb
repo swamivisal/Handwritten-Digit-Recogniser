{
  "nbformat": 4,
  "nbformat_minor": 0,
  "metadata": {
    "colab": {
      "name": "mnist_prediction.ipynb",
      "provenance": [],
      "collapsed_sections": [],
      "mount_file_id": "1Uhu8x1ok26GzKdJRyHMDO0zhAWWLG_a8",
      "authorship_tag": "ABX9TyN6VmEkXMbswA0nSJqUvATV",
      "include_colab_link": true
    },
    "kernelspec": {
      "name": "python3",
      "display_name": "Python 3"
    },
    "language_info": {
      "name": "python"
    }
  },
  "cells": [
    {
      "cell_type": "markdown",
      "metadata": {
        "id": "view-in-github",
        "colab_type": "text"
      },
      "source": [
        "<a href=\"https://colab.research.google.com/github/swamivisal/Handwritten-Digit-Recogniser/blob/main/mnist_prediction.ipynb\" target=\"_parent\"><img src=\"https://colab.research.google.com/assets/colab-badge.svg\" alt=\"Open In Colab\"/></a>"
      ]
    },
    {
      "cell_type": "markdown",
      "metadata": {
        "id": "gr0jpBGvOyZq"
      },
      "source": [
        "##**Importing the libraries**\n"
      ]
    },
    {
      "cell_type": "code",
      "metadata": {
        "id": "sWx2U0paLPgT"
      },
      "source": [
        "from tensorflow import keras\n",
        "from tensorflow.keras.layers import Dense,Activation,Flatten\n",
        "import numpy as np\n",
        "import cv2\n",
        "from google.colab.patches import cv2_imshow"
      ],
      "execution_count": 3,
      "outputs": []
    },
    {
      "cell_type": "markdown",
      "metadata": {
        "id": "HeH_tcXvPf1w"
      },
      "source": [
        "##**Importing the mnist dataset and spliting the test and train data**"
      ]
    },
    {
      "cell_type": "code",
      "metadata": {
        "id": "m5aLyaoVLPio",
        "outputId": "7debb22d-efbc-4c19-d3b6-5d79f7305583",
        "colab": {
          "base_uri": "https://localhost:8080/",
          "height": 465
        }
      },
      "source": [
        "mnist = keras.datasets.mnist \n",
        "(train_inputs,train_targets),(test_inputs,test_targets) = mnist.load_data() \n",
        "for i in range(10):\n",
        "  cv2_imshow(train_inputs[i])\n",
        "  print(train_targets[i])\n",
        "normalised_train_inputs = train_inputs/255\n",
        "normalised_test_inputs=test_inputs/255\n"
      ],
      "execution_count": 6,
      "outputs": [
        {
          "output_type": "display_data",
          "data": {
            "image/png": "[encoded data removed]",
            "text/plain": [
              "<PIL.Image.Image image mode=L size=28x28 at 0x7FF80B7DAF90>"
            ]
          },
          "metadata": {
            "tags": []
          }
        },
        {
          "output_type": "stream",
          "text": [
            "5\n"
          ],
          "name": "stdout"
        },
        {
          "output_type": "display_data",
          "data": {
            "image/png": "[encoded data removed]",
            "text/plain": [
              "<PIL.Image.Image image mode=L size=28x28 at 0x7FF80B8DE950>"
            ]
          },
          "metadata": {
            "tags": []
          }
        },
        {
          "output_type": "stream",
          "text": [
            "0\n"
          ],
          "name": "stdout"
        },
        {
          "output_type": "display_data",
          "data": {
            "image/png": "[encoded data removed]",
            "text/plain": [
              "<PIL.Image.Image image mode=L size=28x28 at 0x7FF80B8DE490>"
            ]
          },
          "metadata": {
            "tags": []
          }
        },
        {
          "output_type": "stream",
          "text": [
            "4\n"
          ],
          "name": "stdout"
        },
        {
          "output_type": "display_data",
          "data": {
            "image/png": "[encoded data removed]",
            "text/plain": [
              "<PIL.Image.Image image mode=L size=28x28 at 0x7FF80B8DEBD0>"
            ]
          },
          "metadata": {
            "tags": []
          }
        },
        {
          "output_type": "stream",
          "text": [
            "1\n"
          ],
          "name": "stdout"
        },
        {
          "output_type": "display_data",
          "data": {
            "image/png": "[encoded data removed]",
            "text/plain": [
              "<PIL.Image.Image image mode=L size=28x28 at 0x7FF80B8DE650>"
            ]
          },
          "metadata": {
            "tags": []
          }
        },
        {
          "output_type": "stream",
          "text": [
            "9\n"
          ],
          "name": "stdout"
        },
        {
          "output_type": "display_data",
          "data": {
            "image/png": "[encoded data removed]",
            "text/plain": [
              "<PIL.Image.Image image mode=L size=28x28 at 0x7FF80B8DE190>"
            ]
          },
          "metadata": {
            "tags": []
          }
        },
        {
          "output_type": "stream",
          "text": [
            "2\n"
          ],
          "name": "stdout"
        },
        {
          "output_type": "display_data",
          "data": {
            "image/png": "[encoded data removed]",
            "text/plain": [
              "<PIL.Image.Image image mode=L size=28x28 at 0x7FF80B8DE9D0>"
            ]
          },
          "metadata": {
            "tags": []
          }
        },
        {
          "output_type": "stream",
          "text": [
            "1\n"
          ],
          "name": "stdout"
        },
        {
          "output_type": "display_data",
          "data": {
            "image/png": "[encoded data removed]",
            "text/plain": [
              "<PIL.Image.Image image mode=L size=28x28 at 0x7FF80B8DE650>"
            ]
          },
          "metadata": {
            "tags": []
          }
        },
        {
          "output_type": "stream",
          "text": [
            "3\n"
          ],
          "name": "stdout"
        },
        {
          "output_type": "display_data",
          "data": {
            "image/png": "[encoded data removed]",
            "text/plain": [
              "<PIL.Image.Image image mode=L size=28x28 at 0x7FF80B8DE490>"
            ]
          },
          "metadata": {
            "tags": []
          }
        },
        {
          "output_type": "stream",
          "text": [
            "1\n"
          ],
          "name": "stdout"
        },
        {
          "output_type": "display_data",
          "data": {
            "image/png": "[encoded data removed]",
            "text/plain": [
              "<PIL.Image.Image image mode=L size=28x28 at 0x7FF80B8DEC90>"
            ]
          },
          "metadata": {
            "tags": []
          }
        },
        {
          "output_type": "stream",
          "text": [
            "4\n"
          ],
          "name": "stdout"
        }
      ]
    },
    {
      "cell_type": "markdown",
      "metadata": {
        "id": "dwKVQOlyFz8o"
      },
      "source": [
        "##**Preprocessing the data**"
      ]
    },
    {
      "cell_type": "markdown",
      "metadata": {
        "id": "7v6zXOavRTS6"
      },
      "source": [
        "**Initializing the ANN**"
      ]
    },
    {
      "cell_type": "code",
      "metadata": {
        "id": "y5QNYIBZGQ6H"
      },
      "source": [
        "model=keras.Sequential()"
      ],
      "execution_count": 7,
      "outputs": []
    },
    {
      "cell_type": "markdown",
      "metadata": {
        "id": "sHRHFGl_GJXW"
      },
      "source": [
        "**Adding the hidden layers and output layer**"
      ]
    },
    {
      "cell_type": "code",
      "metadata": {
        "id": "Mw3ZlO2PLPlt"
      },
      "source": [
        "model.add(Flatten(input_shape=normalised_train_inputs.shape[1:]))\n",
        "model.add(Dense(45))\n",
        "model.add(Activation('relu'))\n",
        "model.add(Dense(15))\n",
        "model.add(Activation('relu'))\n",
        "model.add(Dense(10))\n",
        "model.add(Activation('softmax'))"
      ],
      "execution_count": 8,
      "outputs": []
    },
    {
      "cell_type": "markdown",
      "metadata": {
        "id": "BungqLnxGjcb"
      },
      "source": [
        "##**Compiling the ANN and training the model on training data**"
      ]
    },
    {
      "cell_type": "code",
      "metadata": {
        "id": "hCksn-m6LhVJ",
        "colab": {
          "base_uri": "https://localhost:8080/"
        },
        "outputId": "7f11dbd8-039c-4c71-9adb-185ba713f7c8"
      },
      "source": [
        "model.compile(loss=\"sparse_categorical_crossentropy\",optimizer=keras.optimizers.Adam(learning_rate=0.005),metrics=['accuracy'])\n",
        "model.fit(normalised_train_inputs,train_targets,batch_size=400,epochs=7)"
      ],
      "execution_count": 9,
      "outputs": [
        {
          "output_type": "stream",
          "text": [
            "Epoch 1/7\n",
            "150/150 [==============================] - 1s 4ms/step - loss: 0.4344 - accuracy: 0.8663\n",
            "Epoch 2/7\n",
            "150/150 [==============================] - 1s 4ms/step - loss: 0.1720 - accuracy: 0.9503\n",
            "Epoch 3/7\n",
            "150/150 [==============================] - 1s 4ms/step - loss: 0.1374 - accuracy: 0.9589\n",
            "Epoch 4/7\n",
            "150/150 [==============================] - 1s 4ms/step - loss: 0.1112 - accuracy: 0.9670\n",
            "Epoch 5/7\n",
            "150/150 [==============================] - 1s 4ms/step - loss: 0.0962 - accuracy: 0.9711\n",
            "Epoch 6/7\n",
            "150/150 [==============================] - 1s 4ms/step - loss: 0.0845 - accuracy: 0.9744\n",
            "Epoch 7/7\n",
            "150/150 [==============================] - 1s 4ms/step - loss: 0.0730 - accuracy: 0.9779\n"
          ],
          "name": "stdout"
        },
        {
          "output_type": "execute_result",
          "data": {
            "text/plain": [
              "<tensorflow.python.keras.callbacks.History at 0x7ff8076dd710>"
            ]
          },
          "metadata": {
            "tags": []
          },
          "execution_count": 9
        }
      ]
    },
    {
      "cell_type": "markdown",
      "metadata": {
        "id": "n83bA3gYRaNt"
      },
      "source": [
        "##**Evaluating the performance of the model**"
      ]
    },
    {
      "cell_type": "code",
      "metadata": {
        "id": "IWK3Jt8QLlpd",
        "colab": {
          "base_uri": "https://localhost:8080/"
        },
        "outputId": "77f89da8-cb27-4dad-b954-c0c1612ff695"
      },
      "source": [
        "model.evaluate(normalised_test_inputs,test_targets)"
      ],
      "execution_count": 10,
      "outputs": [
        {
          "output_type": "stream",
          "text": [
            "313/313 [==============================] - 0s 1ms/step - loss: 0.1139 - accuracy: 0.9689\n"
          ],
          "name": "stdout"
        },
        {
          "output_type": "execute_result",
          "data": {
            "text/plain": [
              "[0.11389324069023132, 0.9689000248908997]"
            ]
          },
          "metadata": {
            "tags": []
          },
          "execution_count": 10
        }
      ]
    },
    {
      "cell_type": "markdown",
      "metadata": {
        "id": "zNrdygLERt30"
      },
      "source": [
        "##**Making the predictions for few test inputs**"
      ]
    },
    {
      "cell_type": "code",
      "metadata": {
        "colab": {
          "base_uri": "https://localhost:8080/"
        },
        "id": "d9XFyy5JMSkR",
        "outputId": "c0eeb8c2-64f5-44c7-eaf1-1427defdfac6"
      },
      "source": [
        "for i in range(100):\n",
        "  prediction=model.predict_classes(normalised_test_inputs[i].reshape(1,28,28))\n",
        "  target=test_targets[i]\n",
        "  if prediction==target:\n",
        "    print(\"predicted number={},target number={}\".format(prediction[0],target))\n",
        "  else:\n",
        "    print(\"predicted number={},target number={}\".format(prediction[0],target))"
      ],
      "execution_count": 16,
      "outputs": [
        {
          "output_type": "stream",
          "text": [
            "/usr/local/lib/python3.7/dist-packages/tensorflow/python/keras/engine/sequential.py:455: UserWarning: `model.predict_classes()` is deprecated and will be removed after 2021-01-01. Please use instead:* `np.argmax(model.predict(x), axis=-1)`,   if your model does multi-class classification   (e.g. if it uses a `softmax` last-layer activation).* `(model.predict(x) > 0.5).astype(\"int32\")`,   if your model does binary classification   (e.g. if it uses a `sigmoid` last-layer activation).\n",
            "  warnings.warn('`model.predict_classes()` is deprecated and '\n"
          ],
          "name": "stderr"
        },
        {
          "output_type": "stream",
          "text": [
            "predicted number=7,target number=7\n",
            "predicted number=2,target number=2\n",
            "predicted number=1,target number=1\n",
            "predicted number=0,target number=0\n",
            "predicted number=4,target number=4\n",
            "predicted number=1,target number=1\n",
            "predicted number=4,target number=4\n",
            "predicted number=9,target number=9\n",
            "predicted number=4,target number=5\n",
            "predicted number=9,target number=9\n",
            "predicted number=0,target number=0\n",
            "predicted number=6,target number=6\n",
            "predicted number=9,target number=9\n",
            "predicted number=0,target number=0\n",
            "predicted number=1,target number=1\n",
            "predicted number=5,target number=5\n",
            "predicted number=9,target number=9\n",
            "predicted number=7,target number=7\n",
            "predicted number=3,target number=3\n",
            "predicted number=4,target number=4\n",
            "predicted number=9,target number=9\n",
            "predicted number=6,target number=6\n",
            "predicted number=6,target number=6\n",
            "predicted number=5,target number=5\n",
            "predicted number=4,target number=4\n",
            "predicted number=0,target number=0\n",
            "predicted number=7,target number=7\n",
            "predicted number=4,target number=4\n",
            "predicted number=0,target number=0\n",
            "predicted number=1,target number=1\n",
            "predicted number=3,target number=3\n",
            "predicted number=1,target number=1\n",
            "predicted number=3,target number=3\n",
            "predicted number=4,target number=4\n",
            "predicted number=7,target number=7\n",
            "predicted number=2,target number=2\n",
            "predicted number=7,target number=7\n",
            "predicted number=1,target number=1\n",
            "predicted number=2,target number=2\n",
            "predicted number=1,target number=1\n",
            "predicted number=1,target number=1\n",
            "predicted number=7,target number=7\n",
            "predicted number=4,target number=4\n",
            "predicted number=2,target number=2\n",
            "predicted number=3,target number=3\n",
            "predicted number=5,target number=5\n",
            "predicted number=1,target number=1\n",
            "predicted number=2,target number=2\n",
            "predicted number=4,target number=4\n",
            "predicted number=4,target number=4\n",
            "predicted number=6,target number=6\n",
            "predicted number=3,target number=3\n",
            "predicted number=5,target number=5\n",
            "predicted number=5,target number=5\n",
            "predicted number=6,target number=6\n",
            "predicted number=0,target number=0\n",
            "predicted number=4,target number=4\n",
            "predicted number=1,target number=1\n",
            "predicted number=9,target number=9\n",
            "predicted number=5,target number=5\n",
            "predicted number=7,target number=7\n",
            "predicted number=8,target number=8\n",
            "predicted number=9,target number=9\n",
            "predicted number=3,target number=3\n",
            "predicted number=7,target number=7\n",
            "predicted number=4,target number=4\n",
            "predicted number=6,target number=6\n",
            "predicted number=4,target number=4\n",
            "predicted number=3,target number=3\n",
            "predicted number=0,target number=0\n",
            "predicted number=7,target number=7\n",
            "predicted number=0,target number=0\n",
            "predicted number=2,target number=2\n",
            "predicted number=9,target number=9\n",
            "predicted number=1,target number=1\n",
            "predicted number=7,target number=7\n",
            "predicted number=3,target number=3\n",
            "predicted number=2,target number=2\n",
            "predicted number=9,target number=9\n",
            "predicted number=7,target number=7\n",
            "predicted number=7,target number=7\n",
            "predicted number=6,target number=6\n",
            "predicted number=2,target number=2\n",
            "predicted number=7,target number=7\n",
            "predicted number=8,target number=8\n",
            "predicted number=4,target number=4\n",
            "predicted number=7,target number=7\n",
            "predicted number=3,target number=3\n",
            "predicted number=6,target number=6\n",
            "predicted number=1,target number=1\n",
            "predicted number=3,target number=3\n",
            "predicted number=6,target number=6\n",
            "predicted number=9,target number=9\n",
            "predicted number=3,target number=3\n",
            "predicted number=1,target number=1\n",
            "predicted number=4,target number=4\n",
            "predicted number=1,target number=1\n",
            "predicted number=7,target number=7\n",
            "predicted number=6,target number=6\n",
            "predicted number=9,target number=9\n"
          ],
          "name": "stdout"
        }
      ]
    },
    {
      "cell_type": "markdown",
      "metadata": {
        "id": "uDGDAYsbTmtm"
      },
      "source": [
        "# New Section"
      ]
    }
  ]
}