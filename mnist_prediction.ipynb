{
  "nbformat": 4,
  "nbformat_minor": 0,
  "metadata": {
    "colab": {
      "name": "mnist_prediction.ipynb",
      "provenance": [],
      "collapsed_sections": [],
      "mount_file_id": "1Uhu8x1ok26GzKdJRyHMDO0zhAWWLG_a8",
      "authorship_tag": "ABX9TyOjEzb1wVDmy+D/LwoxjjRA",
      "include_colab_link": true
    },
    "kernelspec": {
      "name": "python3",
      "display_name": "Python 3"
    },
    "language_info": {
      "name": "python"
    }
  },
  "cells": [
    {
      "cell_type": "markdown",
      "metadata": {
        "id": "view-in-github",
        "colab_type": "text"
      },
      "source": [
        "<a href=\"https://colab.research.google.com/github/swamivisal/Handwritten-Digit-Recogniser/blob/main/mnist_prediction.ipynb\" target=\"_parent\"><img src=\"https://colab.research.google.com/assets/colab-badge.svg\" alt=\"Open In Colab\"/></a>"
      ]
    },
    {
      "cell_type": "markdown",
      "metadata": {
        "id": "gr0jpBGvOyZq"
      },
      "source": [
        "import numpy, cv2, keras from tensorflow\n",
        "import the Dense,Activation and Flatten functions from keras\n"
      ]
    },
    {
      "cell_type": "code",
      "metadata": {
        "id": "sWx2U0paLPgT"
      },
      "source": [
        "from tensorflow import keras\n",
        "from tensorflow.keras.layers import Dense,Activation,Flatten\n",
        "import numpy as np\n",
        "import cv2"
      ],
      "execution_count": 1,
      "outputs": []
    },
    {
      "cell_type": "markdown",
      "metadata": {
        "id": "HeH_tcXvPf1w"
      },
      "source": [
        "Load the mnist dataset from keras which contains the total of 70000 images of size(28,28),of which 60000 images are used for training and 10000 images are used for testing purpose.\n",
        "Testing and training images are splited and normalised"
      ]
    },
    {
      "cell_type": "code",
      "metadata": {
        "id": "m5aLyaoVLPio",
        "colab": {
          "base_uri": "https://localhost:8080/"
        },
        "outputId": "ce292ebb-ef7f-4411-ce6b-ca2ecd2038d0"
      },
      "source": [
        "mnist = keras.datasets.mnist \n",
        "(train_inputs,train_targets),(test_inputs,test_targets) = mnist.load_data() \n",
        "normalised_train_inputs = train_inputs/255\n",
        "normalised_test_inputs=test_inputs/255"
      ],
      "execution_count": 2,
      "outputs": [
        {
          "output_type": "stream",
          "text": [
            "Downloading data from https://storage.googleapis.com/tensorflow/tf-keras-datasets/mnist.npz\n",
            "11493376/11490434 [==============================] - 0s 0us/step\n"
          ],
          "name": "stdout"
        }
      ]
    },
    {
      "cell_type": "markdown",
      "metadata": {
        "id": "7v6zXOavRTS6"
      },
      "source": [
        "Create a sequence model.Flatten layer is used to convert the 2d inputs into 1d inputs.The architecture is built using 2 hidden layers of relu activation function and 1 output layer of softmax activation function for multiclass classification .The architecture consists of 10 classes"
      ]
    },
    {
      "cell_type": "code",
      "metadata": {
        "id": "Mw3ZlO2PLPlt"
      },
      "source": [
        "model=keras.Sequential()\n",
        "model.add(Flatten(input_shape=normalised_train_inputs.shape[1:]))\n",
        "model.add(Dense(45))\n",
        "model.add(Activation('relu'))\n",
        "model.add(Dense(15))\n",
        "model.add(Activation('relu'))\n",
        "model.add(Dense(10))\n",
        "model.add(Activation('softmax'))"
      ],
      "execution_count": 3,
      "outputs": []
    },
    {
      "cell_type": "code",
      "metadata": {
        "id": "hCksn-m6LhVJ",
        "colab": {
          "base_uri": "https://localhost:8080/"
        },
        "outputId": "dfc403d3-5426-4f1d-c13c-6c587bbe06d5"
      },
      "source": [
        "model.compile(loss=\"sparse_categorical_crossentropy\",optimizer=keras.optimizers.Adam(learning_rate=0.005),metrics=['accuracy'])\n",
        "model.fit(normalised_train_inputs,train_targets,batch_size=400,epochs=7)"
      ],
      "execution_count": 4,
      "outputs": [
        {
          "output_type": "stream",
          "text": [
            "Epoch 1/7\n",
            "150/150 [==============================] - 1s 4ms/step - loss: 0.4888 - accuracy: 0.8488\n",
            "Epoch 2/7\n",
            "150/150 [==============================] - 1s 4ms/step - loss: 0.1813 - accuracy: 0.9468\n",
            "Epoch 3/7\n",
            "150/150 [==============================] - 1s 4ms/step - loss: 0.1297 - accuracy: 0.9613\n",
            "Epoch 4/7\n",
            "150/150 [==============================] - 1s 4ms/step - loss: 0.1060 - accuracy: 0.9681\n",
            "Epoch 5/7\n",
            "150/150 [==============================] - 1s 4ms/step - loss: 0.0914 - accuracy: 0.9724\n",
            "Epoch 6/7\n",
            "150/150 [==============================] - 1s 4ms/step - loss: 0.0809 - accuracy: 0.9751\n",
            "Epoch 7/7\n",
            "150/150 [==============================] - 1s 4ms/step - loss: 0.0719 - accuracy: 0.9781\n"
          ],
          "name": "stdout"
        },
        {
          "output_type": "execute_result",
          "data": {
            "text/plain": [
              "<tensorflow.python.keras.callbacks.History at 0x7faa0929b210>"
            ]
          },
          "metadata": {
            "tags": []
          },
          "execution_count": 0
        }
      ]
    },
    {
      "cell_type": "markdown",
      "metadata": {
        "id": "n83bA3gYRaNt"
      },
      "source": [
        "Tset inputs also need to be normalised to increase the efficiency and the test inputs are evaluated using the fully connected neural network"
      ]
    },
    {
      "cell_type": "code",
      "metadata": {
        "id": "IWK3Jt8QLlpd",
        "colab": {
          "base_uri": "https://localhost:8080/"
        },
        "outputId": "9d8658a5-83d4-4b23-d301-a85e1c916e25"
      },
      "source": [
        "normalised_test_inputs=test_inputs/255\n",
        "model.evaluate(normalised_test_inputs,test_targets)"
      ],
      "execution_count": 5,
      "outputs": [
        {
          "output_type": "stream",
          "text": [
            "313/313 [==============================] - 0s 1ms/step - loss: 0.1064 - accuracy: 0.9709\n"
          ],
          "name": "stdout"
        },
        {
          "output_type": "execute_result",
          "data": {
            "text/plain": [
              "[0.10636790841817856, 0.9708999991416931]"
            ]
          },
          "metadata": {
            "tags": []
          },
          "execution_count": 0
        }
      ]
    },
    {
      "cell_type": "markdown",
      "metadata": {
        "id": "zNrdygLERt30"
      },
      "source": [
        "The classes of test inputs are predicted and compared with the test targets"
      ]
    },
    {
      "cell_type": "code",
      "metadata": {
        "colab": {
          "base_uri": "https://localhost:8080/"
        },
        "id": "d9XFyy5JMSkR",
        "outputId": "a65fa989-bbb0-4b29-9b95-a0644af5dae0"
      },
      "source": [
        "for i in range(100):\n",
        "  prediction=model.predict_classes(normalised_test_inputs[i].reshape(1,28,28))\n",
        "  target=test_targets[i]\n",
        "  if prediction==target:\n",
        "    print(\"correctly predicted\")\n",
        "  else:\n",
        "   print(\"predicted number={},target number={}\".format(prediction[0],target))"
      ],
      "execution_count": 6,
      "outputs": [
        {
          "output_type": "stream",
          "text": [
            "correctly predicted\n",
            "correctly predicted\n"
          ],
          "name": "stdout"
        },
        {
          "output_type": "stream",
          "text": [
            "/usr/local/lib/python3.7/dist-packages/tensorflow/python/keras/engine/sequential.py:455: UserWarning: `model.predict_classes()` is deprecated and will be removed after 2021-01-01. Please use instead:* `np.argmax(model.predict(x), axis=-1)`,   if your model does multi-class classification   (e.g. if it uses a `softmax` last-layer activation).* `(model.predict(x) > 0.5).astype(\"int32\")`,   if your model does binary classification   (e.g. if it uses a `sigmoid` last-layer activation).\n",
            "  warnings.warn('`model.predict_classes()` is deprecated and '\n"
          ],
          "name": "stderr"
        },
        {
          "output_type": "stream",
          "text": [
            "correctly predicted\n",
            "correctly predicted\n",
            "correctly predicted\n",
            "correctly predicted\n",
            "correctly predicted\n",
            "correctly predicted\n",
            "correctly predicted\n",
            "correctly predicted\n",
            "correctly predicted\n",
            "correctly predicted\n",
            "correctly predicted\n",
            "correctly predicted\n",
            "correctly predicted\n",
            "correctly predicted\n",
            "correctly predicted\n",
            "correctly predicted\n",
            "correctly predicted\n",
            "correctly predicted\n",
            "correctly predicted\n",
            "correctly predicted\n",
            "correctly predicted\n",
            "correctly predicted\n",
            "correctly predicted\n",
            "correctly predicted\n",
            "correctly predicted\n",
            "correctly predicted\n",
            "correctly predicted\n",
            "correctly predicted\n",
            "correctly predicted\n",
            "correctly predicted\n",
            "correctly predicted\n",
            "correctly predicted\n",
            "correctly predicted\n",
            "correctly predicted\n",
            "correctly predicted\n",
            "correctly predicted\n",
            "correctly predicted\n",
            "correctly predicted\n",
            "correctly predicted\n",
            "correctly predicted\n",
            "correctly predicted\n",
            "correctly predicted\n",
            "correctly predicted\n",
            "correctly predicted\n",
            "correctly predicted\n",
            "correctly predicted\n",
            "correctly predicted\n",
            "correctly predicted\n",
            "correctly predicted\n",
            "correctly predicted\n",
            "correctly predicted\n",
            "correctly predicted\n",
            "correctly predicted\n",
            "correctly predicted\n",
            "correctly predicted\n",
            "correctly predicted\n",
            "correctly predicted\n",
            "correctly predicted\n",
            "correctly predicted\n",
            "correctly predicted\n",
            "correctly predicted\n",
            "correctly predicted\n",
            "correctly predicted\n",
            "correctly predicted\n",
            "correctly predicted\n",
            "correctly predicted\n",
            "correctly predicted\n",
            "correctly predicted\n",
            "correctly predicted\n",
            "correctly predicted\n",
            "correctly predicted\n",
            "correctly predicted\n",
            "correctly predicted\n",
            "correctly predicted\n",
            "correctly predicted\n",
            "correctly predicted\n",
            "correctly predicted\n",
            "correctly predicted\n",
            "correctly predicted\n",
            "correctly predicted\n",
            "correctly predicted\n",
            "correctly predicted\n",
            "correctly predicted\n",
            "correctly predicted\n",
            "correctly predicted\n",
            "correctly predicted\n",
            "correctly predicted\n",
            "correctly predicted\n",
            "correctly predicted\n",
            "correctly predicted\n",
            "correctly predicted\n",
            "correctly predicted\n",
            "correctly predicted\n",
            "correctly predicted\n",
            "correctly predicted\n",
            "correctly predicted\n",
            "correctly predicted\n",
            "correctly predicted\n"
          ],
          "name": "stdout"
        }
      ]
    },
    {
      "cell_type": "markdown",
      "metadata": {
        "id": "uDGDAYsbTmtm"
      },
      "source": [
        "# New Section"
      ]
    }
  ]
}